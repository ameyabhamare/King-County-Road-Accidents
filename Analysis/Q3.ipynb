{
  "nbformat": 4,
  "nbformat_minor": 0,
  "metadata": {
    "colab": {
      "provenance": []
    },
    "kernelspec": {
      "name": "python3",
      "display_name": "Python 3"
    },
    "language_info": {
      "name": "python"
    }
  },
  "cells": [
    {
      "cell_type": "markdown",
      "source": [
        "**Question 3) \n",
        "Is there a relationship between the severity of an accident and the time of day during which it occurs? Is there a significant difference between the severity of accidents that occur around midnight and those that occur around evening transit hours?**"
      ],
      "metadata": {
        "id": "DMS5FdQfjJm3"
      }
    },
    {
      "cell_type": "markdown",
      "source": [
        "**Import Libraries**"
      ],
      "metadata": {
        "id": "eBfsCeIRjqKa"
      }
    },
    {
      "cell_type": "code",
      "source": [
        "import pandas as pd\n",
        "import matplotlib.pyplot as plt\n",
        "import seaborn as sns"
      ],
      "metadata": {
        "id": "G3E5NR3ajtZf"
      },
      "execution_count": 7,
      "outputs": []
    },
    {
      "cell_type": "markdown",
      "source": [
        "**Read Data**"
      ],
      "metadata": {
        "id": "V4ClgS6gjvwe"
      }
    },
    {
      "cell_type": "code",
      "source": [
        "from google.colab import files\n",
        "uploaded = files.upload()"
      ],
      "metadata": {
        "colab": {
          "base_uri": "https://localhost:8080/",
          "height": 91
        },
        "id": "78CgWcxxj4pv",
        "outputId": "fd603f16-a82a-4593-a1fa-7763970d2061"
      },
      "execution_count": 9,
      "outputs": [
        {
          "output_type": "display_data",
          "data": {
            "text/plain": [
              "<IPython.core.display.HTML object>"
            ],
            "text/html": [
              "\n",
              "     <input type=\"file\" id=\"files-9ed2c41e-daac-4253-bf29-f42b610e905b\" name=\"files[]\" multiple disabled\n",
              "        style=\"border:none\" />\n",
              "     <output id=\"result-9ed2c41e-daac-4253-bf29-f42b610e905b\">\n",
              "      Upload widget is only available when the cell has been executed in the\n",
              "      current browser session. Please rerun this cell to enable.\n",
              "      </output>\n",
              "      <script>// Copyright 2017 Google LLC\n",
              "//\n",
              "// Licensed under the Apache License, Version 2.0 (the \"License\");\n",
              "// you may not use this file except in compliance with the License.\n",
              "// You may obtain a copy of the License at\n",
              "//\n",
              "//      http://www.apache.org/licenses/LICENSE-2.0\n",
              "//\n",
              "// Unless required by applicable law or agreed to in writing, software\n",
              "// distributed under the License is distributed on an \"AS IS\" BASIS,\n",
              "// WITHOUT WARRANTIES OR CONDITIONS OF ANY KIND, either express or implied.\n",
              "// See the License for the specific language governing permissions and\n",
              "// limitations under the License.\n",
              "\n",
              "/**\n",
              " * @fileoverview Helpers for google.colab Python module.\n",
              " */\n",
              "(function(scope) {\n",
              "function span(text, styleAttributes = {}) {\n",
              "  const element = document.createElement('span');\n",
              "  element.textContent = text;\n",
              "  for (const key of Object.keys(styleAttributes)) {\n",
              "    element.style[key] = styleAttributes[key];\n",
              "  }\n",
              "  return element;\n",
              "}\n",
              "\n",
              "// Max number of bytes which will be uploaded at a time.\n",
              "const MAX_PAYLOAD_SIZE = 100 * 1024;\n",
              "\n",
              "function _uploadFiles(inputId, outputId) {\n",
              "  const steps = uploadFilesStep(inputId, outputId);\n",
              "  const outputElement = document.getElementById(outputId);\n",
              "  // Cache steps on the outputElement to make it available for the next call\n",
              "  // to uploadFilesContinue from Python.\n",
              "  outputElement.steps = steps;\n",
              "\n",
              "  return _uploadFilesContinue(outputId);\n",
              "}\n",
              "\n",
              "// This is roughly an async generator (not supported in the browser yet),\n",
              "// where there are multiple asynchronous steps and the Python side is going\n",
              "// to poll for completion of each step.\n",
              "// This uses a Promise to block the python side on completion of each step,\n",
              "// then passes the result of the previous step as the input to the next step.\n",
              "function _uploadFilesContinue(outputId) {\n",
              "  const outputElement = document.getElementById(outputId);\n",
              "  const steps = outputElement.steps;\n",
              "\n",
              "  const next = steps.next(outputElement.lastPromiseValue);\n",
              "  return Promise.resolve(next.value.promise).then((value) => {\n",
              "    // Cache the last promise value to make it available to the next\n",
              "    // step of the generator.\n",
              "    outputElement.lastPromiseValue = value;\n",
              "    return next.value.response;\n",
              "  });\n",
              "}\n",
              "\n",
              "/**\n",
              " * Generator function which is called between each async step of the upload\n",
              " * process.\n",
              " * @param {string} inputId Element ID of the input file picker element.\n",
              " * @param {string} outputId Element ID of the output display.\n",
              " * @return {!Iterable<!Object>} Iterable of next steps.\n",
              " */\n",
              "function* uploadFilesStep(inputId, outputId) {\n",
              "  const inputElement = document.getElementById(inputId);\n",
              "  inputElement.disabled = false;\n",
              "\n",
              "  const outputElement = document.getElementById(outputId);\n",
              "  outputElement.innerHTML = '';\n",
              "\n",
              "  const pickedPromise = new Promise((resolve) => {\n",
              "    inputElement.addEventListener('change', (e) => {\n",
              "      resolve(e.target.files);\n",
              "    });\n",
              "  });\n",
              "\n",
              "  const cancel = document.createElement('button');\n",
              "  inputElement.parentElement.appendChild(cancel);\n",
              "  cancel.textContent = 'Cancel upload';\n",
              "  const cancelPromise = new Promise((resolve) => {\n",
              "    cancel.onclick = () => {\n",
              "      resolve(null);\n",
              "    };\n",
              "  });\n",
              "\n",
              "  // Wait for the user to pick the files.\n",
              "  const files = yield {\n",
              "    promise: Promise.race([pickedPromise, cancelPromise]),\n",
              "    response: {\n",
              "      action: 'starting',\n",
              "    }\n",
              "  };\n",
              "\n",
              "  cancel.remove();\n",
              "\n",
              "  // Disable the input element since further picks are not allowed.\n",
              "  inputElement.disabled = true;\n",
              "\n",
              "  if (!files) {\n",
              "    return {\n",
              "      response: {\n",
              "        action: 'complete',\n",
              "      }\n",
              "    };\n",
              "  }\n",
              "\n",
              "  for (const file of files) {\n",
              "    const li = document.createElement('li');\n",
              "    li.append(span(file.name, {fontWeight: 'bold'}));\n",
              "    li.append(span(\n",
              "        `(${file.type || 'n/a'}) - ${file.size} bytes, ` +\n",
              "        `last modified: ${\n",
              "            file.lastModifiedDate ? file.lastModifiedDate.toLocaleDateString() :\n",
              "                                    'n/a'} - `));\n",
              "    const percent = span('0% done');\n",
              "    li.appendChild(percent);\n",
              "\n",
              "    outputElement.appendChild(li);\n",
              "\n",
              "    const fileDataPromise = new Promise((resolve) => {\n",
              "      const reader = new FileReader();\n",
              "      reader.onload = (e) => {\n",
              "        resolve(e.target.result);\n",
              "      };\n",
              "      reader.readAsArrayBuffer(file);\n",
              "    });\n",
              "    // Wait for the data to be ready.\n",
              "    let fileData = yield {\n",
              "      promise: fileDataPromise,\n",
              "      response: {\n",
              "        action: 'continue',\n",
              "      }\n",
              "    };\n",
              "\n",
              "    // Use a chunked sending to avoid message size limits. See b/62115660.\n",
              "    let position = 0;\n",
              "    do {\n",
              "      const length = Math.min(fileData.byteLength - position, MAX_PAYLOAD_SIZE);\n",
              "      const chunk = new Uint8Array(fileData, position, length);\n",
              "      position += length;\n",
              "\n",
              "      const base64 = btoa(String.fromCharCode.apply(null, chunk));\n",
              "      yield {\n",
              "        response: {\n",
              "          action: 'append',\n",
              "          file: file.name,\n",
              "          data: base64,\n",
              "        },\n",
              "      };\n",
              "\n",
              "      let percentDone = fileData.byteLength === 0 ?\n",
              "          100 :\n",
              "          Math.round((position / fileData.byteLength) * 100);\n",
              "      percent.textContent = `${percentDone}% done`;\n",
              "\n",
              "    } while (position < fileData.byteLength);\n",
              "  }\n",
              "\n",
              "  // All done.\n",
              "  yield {\n",
              "    response: {\n",
              "      action: 'complete',\n",
              "    }\n",
              "  };\n",
              "}\n",
              "\n",
              "scope.google = scope.google || {};\n",
              "scope.google.colab = scope.google.colab || {};\n",
              "scope.google.colab._files = {\n",
              "  _uploadFiles,\n",
              "  _uploadFilesContinue,\n",
              "};\n",
              "})(self);\n",
              "</script> "
            ]
          },
          "metadata": {}
        },
        {
          "output_type": "stream",
          "name": "stdout",
          "text": [
            "Saving US_Accidents_King_County.csv to US_Accidents_King_County.csv\n"
          ]
        }
      ]
    },
    {
      "cell_type": "code",
      "source": [
        "from google.colab import drive\n",
        "drive.mount('/content/drive')"
      ],
      "metadata": {
        "colab": {
          "base_uri": "https://localhost:8080/"
        },
        "id": "A2WcWkJ9k1nD",
        "outputId": "431305f1-7e24-4b0b-a67d-d8999e58d6ad"
      },
      "execution_count": 10,
      "outputs": [
        {
          "output_type": "stream",
          "name": "stdout",
          "text": [
            "Mounted at /content/drive\n"
          ]
        }
      ]
    },
    {
      "cell_type": "code",
      "source": [
        "import io\n",
        "df = pd.read_csv(io.BytesIO(uploaded['US_Accidents_King_County.csv']))"
      ],
      "metadata": {
        "id": "rxwP2Ck6lyRa"
      },
      "execution_count": 11,
      "outputs": []
    },
    {
      "cell_type": "markdown",
      "source": [
        "**Check counties with \"King\"**"
      ],
      "metadata": {
        "id": "7ttA3Luhl_BA"
      }
    },
    {
      "cell_type": "code",
      "source": [
        "df_temp = df[df['County'].str.contains('king', case = False)]\n",
        "df_temp['County'].unique().tolist()"
      ],
      "metadata": {
        "colab": {
          "base_uri": "https://localhost:8080/"
        },
        "id": "TUq3cfuUmDy-",
        "outputId": "1e894f9a-3c0a-460e-d100-823834fa6935"
      },
      "execution_count": 12,
      "outputs": [
        {
          "output_type": "execute_result",
          "data": {
            "text/plain": [
              "['King']"
            ]
          },
          "metadata": {},
          "execution_count": 12
        }
      ]
    },
    {
      "cell_type": "markdown",
      "source": [
        "**Filtering dataset for King County**"
      ],
      "metadata": {
        "id": "glDbUtGhmKxF"
      }
    },
    {
      "cell_type": "code",
      "source": [
        "df_king  = df.loc[df['County'] == 'King', :]\n",
        "df_king.loc[:, 'year'] = df_king.loc[:, 'Start_Time'].apply(lambda x: x[:4])"
      ],
      "metadata": {
        "id": "bV4X-VGKmPpU"
      },
      "execution_count": 13,
      "outputs": []
    },
    {
      "cell_type": "markdown",
      "source": [
        "**Converting start time of accident to hour into a new column**"
      ],
      "metadata": {
        "id": "bh29ZnH_meG0"
      }
    },
    {
      "cell_type": "code",
      "source": [
        "df_king['Start_Time'] = pd.to_datetime(df_king['Start_Time'])\n",
        "df_king['End_Time'] = pd.to_datetime(df_king['End_Time'])\n",
        "df_king['hours'] = df_king['Start_Time'].dt.hour\n",
        "df_king['hours'].value_counts()"
      ],
      "metadata": {
        "colab": {
          "base_uri": "https://localhost:8080/"
        },
        "id": "-MMG7XRzm47u",
        "outputId": "de591644-f414-45c5-e813-4e39052d610c"
      },
      "execution_count": 15,
      "outputs": [
        {
          "output_type": "execute_result",
          "data": {
            "text/plain": [
              "17    1221\n",
              "16    1153\n",
              "15    1073\n",
              "14     988\n",
              "18     988\n",
              "13     825\n",
              "12     807\n",
              "9      792\n",
              "11     786\n",
              "7      769\n",
              "8      767\n",
              "10     757\n",
              "19     713\n",
              "6      645\n",
              "21     529\n",
              "20     526\n",
              "5      446\n",
              "22     427\n",
              "23     381\n",
              "2      297\n",
              "4      260\n",
              "1      260\n",
              "0      249\n",
              "3      244\n",
              "Name: hours, dtype: int64"
            ]
          },
          "metadata": {},
          "execution_count": 15
        }
      ]
    },
    {
      "cell_type": "markdown",
      "source": [
        "**EDA of midnight hours (23, 0, 1) and office transit hours (17, 18, 19)**"
      ],
      "metadata": {
        "id": "kqAvEyNyncRL"
      }
    },
    {
      "cell_type": "code",
      "source": [
        "import seaborn as sns\n",
        "df_king = df_king[(df_king['hours'] == 23) | (df_king['hours'] == 0) | (df_king['hours'] == 1)| (df_king['hours'] == 17) | (df_king['hours'] == 18) | (df_king['hours'] == 19) ]\n",
        "df_king = df_king.sort_values('hours')\n",
        "sns.barplot(data=df_king, x=\"hours\", y=\"Severity\")"
      ],
      "metadata": {
        "colab": {
          "base_uri": "https://localhost:8080/",
          "height": 297
        },
        "id": "GybqHHMPns8p",
        "outputId": "d9b0d374-8830-415c-f75b-1b03743ba15e"
      },
      "execution_count": 16,
      "outputs": [
        {
          "output_type": "execute_result",
          "data": {
            "text/plain": [
              "<Axes: xlabel='hours', ylabel='Severity'>"
            ]
          },
          "metadata": {},
          "execution_count": 16
        },
        {
          "output_type": "display_data",
          "data": {
            "text/plain": [
              "<Figure size 432x288 with 1 Axes>"
            ],
            "image/png": "[encoded data removed]"
          },
          "metadata": {
            "needs_background": "light"
          }
        }
      ]
    },
    {
      "cell_type": "markdown",
      "source": [
        "**Creating new table with midnight hours**"
      ],
      "metadata": {
        "id": "ZDYZNNxknu0b"
      }
    },
    {
      "cell_type": "code",
      "source": [
        "Table_mid = df_king[['Severity','hours']]\n",
        "Table_mid= Table_mid[(Table_mid['hours'] == 23) | (Table_mid['hours'] == 0) | (Table_mid['hours'] == 1) ]"
      ],
      "metadata": {
        "id": "1Pcp10Iqn0K4"
      },
      "execution_count": 17,
      "outputs": []
    },
    {
      "cell_type": "markdown",
      "source": [
        "**Creating new table with office transit hours**"
      ],
      "metadata": {
        "id": "HMZbJiJSn36M"
      }
    },
    {
      "cell_type": "code",
      "source": [
        "Table_office = df_king[['Severity','hours']]\n",
        "Table_office= Table_office[(Table_office['hours'] == 17) | (Table_office['hours'] == 18) | (Table_office['hours'] == 19) ]"
      ],
      "metadata": {
        "id": "KOa9Vf5Hn9Jm"
      },
      "execution_count": 18,
      "outputs": []
    },
    {
      "cell_type": "markdown",
      "source": [
        "**Performing t test**"
      ],
      "metadata": {
        "id": "xdW01o5SoVB-"
      }
    },
    {
      "cell_type": "code",
      "source": [
        "from scipy.stats import ttest_ind\n",
        "data1 = Table_mid['Severity'].tolist()\n",
        "data2 = Table_office['Severity'].tolist()\n",
        "stat, p = ttest_ind(data1, data2)\n",
        "print(stat, p)\n",
        "if p > 0.05:\n",
        " print('Probably the same distribution')\n",
        "else:\n",
        " print('Probably different distributions')"
      ],
      "metadata": {
        "colab": {
          "base_uri": "https://localhost:8080/"
        },
        "id": "A87eDxkEoZvi",
        "outputId": "263c3551-b72f-40dd-85b2-7375a4dbb5c7"
      },
      "execution_count": 19,
      "outputs": [
        {
          "output_type": "stream",
          "name": "stdout",
          "text": [
            "6.422332655581534 1.507322897727276e-10\n",
            "Probably different distributions\n"
          ]
        }
      ]
    },
    {
      "cell_type": "markdown",
      "source": [
        "T- statistic value = 6.422 and P-value = 1.507e-10. We reject the null hypothesis since p-value is significantly less than 0.05 which is the significance level we have assumed for our testing. Interpretation: There is a statistically significant difference in the average severity of accidents which occur at midnight vs accidents which occur during office transit hours. From the confidence interval and point estimate value we observe that the severity of accidents is more during midnight hours. "
      ],
      "metadata": {
        "id": "NkiH16ZHqDX1"
      }
    },
    {
      "cell_type": "markdown",
      "source": [
        "**Identifying confidence interval**"
      ],
      "metadata": {
        "id": "CkcpgXFeocv_"
      }
    },
    {
      "cell_type": "markdown",
      "source": [
        "Confidence interval for midnight hours"
      ],
      "metadata": {
        "id": "ncS-w79erExh"
      }
    },
    {
      "cell_type": "code",
      "source": [
        "import numpy as np\n",
        "import scipy.stats as st\n",
        "st.t.interval(alpha=0.90, df=len(data1)-1,\n",
        "              loc=np.mean(data1),\n",
        "              scale=st.sem(data1))"
      ],
      "metadata": {
        "colab": {
          "base_uri": "https://localhost:8080/"
        },
        "id": "pnhsU3-HrJr7",
        "outputId": "0d3841f4-ddd6-4948-8f25-339b054b7e42"
      },
      "execution_count": 22,
      "outputs": [
        {
          "output_type": "stream",
          "name": "stderr",
          "text": [
            "<ipython-input-22-514b2f22a7ef>:3: DeprecationWarning: Use of keyword argument 'alpha' for method 'interval' is deprecated and wil be removed in SciPy 1.11.0. Use first positional argument or keyword argument 'confidence' instead.\n",
            "  st.t.interval(alpha=0.90, df=len(data1)-1,\n"
          ]
        },
        {
          "output_type": "execute_result",
          "data": {
            "text/plain": [
              "(2.314069755527759, 2.389301030989095)"
            ]
          },
          "metadata": {},
          "execution_count": 22
        }
      ]
    },
    {
      "cell_type": "markdown",
      "source": [
        "Confidence interval for office transit hours"
      ],
      "metadata": {
        "id": "8Cpau6UArLka"
      }
    },
    {
      "cell_type": "code",
      "source": [
        "import numpy as np\n",
        "import scipy.stats as st\n",
        "st.t.interval(alpha=0.90, df=len(data2)-1,\n",
        "              loc=np.mean(data2),\n",
        "              scale=st.sem(data2))"
      ],
      "metadata": {
        "colab": {
          "base_uri": "https://localhost:8080/"
        },
        "id": "1VaeDPXXrPSs",
        "outputId": "d16e9671-1cf0-4f49-ab35-2a58e1e2f567"
      },
      "execution_count": 23,
      "outputs": [
        {
          "output_type": "stream",
          "name": "stderr",
          "text": [
            "<ipython-input-23-6c2cbc1e7a77>:3: DeprecationWarning: Use of keyword argument 'alpha' for method 'interval' is deprecated and wil be removed in SciPy 1.11.0. Use first positional argument or keyword argument 'confidence' instead.\n",
            "  st.t.interval(alpha=0.90, df=len(data2)-1,\n"
          ]
        },
        {
          "output_type": "execute_result",
          "data": {
            "text/plain": [
              "(2.1909052930081057, 2.2245635639391903)"
            ]
          },
          "metadata": {},
          "execution_count": 23
        }
      ]
    },
    {
      "cell_type": "markdown",
      "source": [
        "95% confidence interval for mean severity of midnight hours - (2.314069755527759, 2.389301030989095) and the point estimate is 2.35168. 95% confidence interval for mean severity of office transit hours - (2.1909052930081057, 2.2245635639391903) and the point estimate is 2.2077344"
      ],
      "metadata": {
        "id": "VM__N--crYzA"
      }
    },
    {
      "cell_type": "markdown",
      "source": [
        "**Additiona EDA to determine the distribution of hours**"
      ],
      "metadata": {
        "id": "YViI_nDkrlI4"
      }
    },
    {
      "cell_type": "code",
      "source": [
        "sns.violinplot(x ='hours', y = 'Severity', data = Table_mid )\n",
        "plt.xlabel('Midnight hours')"
      ],
      "metadata": {
        "colab": {
          "base_uri": "https://localhost:8080/",
          "height": 297
        },
        "id": "GXhK8dE5rwrJ",
        "outputId": "ef55d1e5-92e9-465e-d9ec-d90386b33c53"
      },
      "execution_count": 27,
      "outputs": [
        {
          "output_type": "execute_result",
          "data": {
            "text/plain": [
              "Text(0.5, 0, 'Midnight hours')"
            ]
          },
          "metadata": {},
          "execution_count": 27
        },
        {
          "output_type": "display_data",
          "data": {
            "text/plain": [
              "<Figure size 432x288 with 1 Axes>"
            ],
            "image/png": "[encoded data removed]"
          },
          "metadata": {
            "needs_background": "light"
          }
        }
      ]
    },
    {
      "cell_type": "code",
      "source": [
        "sns.violinplot(x ='hours', y = 'Severity', data = Table_office )\n",
        "plt.xlabel('Office transit hours')"
      ],
      "metadata": {
        "colab": {
          "base_uri": "https://localhost:8080/",
          "height": 301
        },
        "id": "N0NLnA04sdw0",
        "outputId": "6ecbbd58-ca9c-49df-e619-94a380b75099"
      },
      "execution_count": 28,
      "outputs": [
        {
          "output_type": "execute_result",
          "data": {
            "text/plain": [
              "Text(0.5, 0, 'Office transit hours')"
            ]
          },
          "metadata": {},
          "execution_count": 28
        },
        {
          "output_type": "display_data",
          "data": {
            "text/plain": [
              "<Figure size 432x288 with 1 Axes>"
            ],
            "image/png": "[encoded data removed]"
          },
          "metadata": {
            "needs_background": "light"
          }
        }
      ]
    }
  ]
}